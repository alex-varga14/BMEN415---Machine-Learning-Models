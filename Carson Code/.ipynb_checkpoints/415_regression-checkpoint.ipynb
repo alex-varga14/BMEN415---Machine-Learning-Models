{
 "cells": [
  {
   "cell_type": "code",
   "execution_count": 92,
   "id": "fef623f8",
   "metadata": {},
   "outputs": [],
   "source": [
    "import pandas as pd\n",
    "import numpy as np\n",
    "import matplotlib.pyplot as plt\n",
    "import sklearn as sk\n",
    "import os"
   ]
  },
  {
   "cell_type": "code",
   "execution_count": 93,
   "id": "d05e2db0",
   "metadata": {},
   "outputs": [
    {
     "name": "stdout",
     "output_type": "stream",
     "text": [
      "<class 'pandas.core.frame.DataFrame'>\n",
      "RangeIndex: 4226 entries, 0 to 4225\n",
      "Columns: 141 entries, S.No to dataset\n",
      "dtypes: float64(122), int64(19)\n",
      "memory usage: 4.5 MB\n"
     ]
    }
   ],
   "source": [
    "data = pd.read_csv(\"Volumetric_features.csv\")\n",
    "data.info()\n",
    "data.head()\n",
    "\n",
    "X = data.drop([\"Age\"], axis=1) \n",
    "y = data.Age.values\n",
    "\n",
    "from sklearn.model_selection import train_test_split \n",
    "x_train, x_test, y_train, y_test = train_test_split(X, y, test_size=0.3, random_state=42, shuffle = True)\n",
    "data.drop('dataset', axis=1, inplace = True)\n",
    "data.drop('Left-WM-hypointensities', axis=1, inplace = True)\n",
    "data.drop('Right-WM-hypointensities', axis=1, inplace = True)\n",
    "data.drop('Left-non-WM-hypointensities', axis=1, inplace = True)\n",
    "data.drop('Right-non-WM-hypointensities', axis=1, inplace = True)"
   ]
  },
  {
   "cell_type": "code",
   "execution_count": 94,
   "id": "5756cafd",
   "metadata": {},
   "outputs": [],
   "source": [
    "#train kNN\n",
    "from sklearn.neighbors import KNeighborsRegressor\n",
    "\n",
    "neigh = KNeighborsRegressor(n_neighbors=10)\n",
    "neigh.fit(x_train, y_train)\n",
    "y_predict = neigh.predict(x_test)"
   ]
  },
  {
   "cell_type": "code",
   "execution_count": 95,
   "id": "b5f29674",
   "metadata": {},
   "outputs": [
    {
     "name": "stdout",
     "output_type": "stream",
     "text": [
      "0.7161638355652613\n",
      "10.657105048399321\n"
     ]
    }
   ],
   "source": [
    "r2 = sk.metrics.r2_score(y_test, y_predict)\n",
    "rmse = np.sqrt(sk.metrics.mean_squared_error(y_test, y_predict))\n",
    "print (r2)\n",
    "print (rmse)"
   ]
  },
  {
   "cell_type": "code",
   "execution_count": 96,
   "id": "94c88b35",
   "metadata": {},
   "outputs": [],
   "source": [
    "#train CART\n",
    "from sklearn import tree\n",
    "\n",
    "clf = tree.DecisionTreeRegressor(min_samples_split=100)\n",
    "clf = clf.fit(x_train, y_train)\n",
    "y_predict = clf.predict(x_test)"
   ]
  },
  {
   "cell_type": "code",
   "execution_count": 97,
   "id": "de0be6b4",
   "metadata": {},
   "outputs": [
    {
     "name": "stdout",
     "output_type": "stream",
     "text": [
      "0.7896800701740117\n",
      "9.173722441774952\n"
     ]
    }
   ],
   "source": [
    "r2 = sk.metrics.r2_score(y_test, y_predict)\n",
    "rmse = np.sqrt(sk.metrics.mean_squared_error(y_test, y_predict))\n",
    "print (r2)\n",
    "print (rmse)"
   ]
  },
  {
   "cell_type": "code",
   "execution_count": 110,
   "id": "32f623f1",
   "metadata": {},
   "outputs": [],
   "source": [
    "#train Bagged\n",
    "from sklearn.ensemble import BaggingRegressor\n",
    "model = BaggingRegressor()\n",
    "model.fit(x_train, y_train)\n",
    "y_predict = model.predict(x_test)\n"
   ]
  },
  {
   "cell_type": "code",
   "execution_count": 111,
   "id": "5145315c",
   "metadata": {},
   "outputs": [
    {
     "name": "stdout",
     "output_type": "stream",
     "text": [
      "0.8711540250866231\n",
      "7.180270572127417\n"
     ]
    }
   ],
   "source": [
    "r2 = sk.metrics.r2_score(y_test, y_predict)\n",
    "rmse = np.sqrt(sk.metrics.mean_squared_error(y_test, y_predict))\n",
    "print (r2)\n",
    "print (rmse)"
   ]
  },
  {
   "cell_type": "code",
   "execution_count": null,
   "id": "57d321af",
   "metadata": {},
   "outputs": [],
   "source": []
  }
 ],
 "metadata": {
  "kernelspec": {
   "display_name": "Python 3 (ipykernel)",
   "language": "python",
   "name": "python3"
  },
  "language_info": {
   "codemirror_mode": {
    "name": "ipython",
    "version": 3
   },
   "file_extension": ".py",
   "mimetype": "text/x-python",
   "name": "python",
   "nbconvert_exporter": "python",
   "pygments_lexer": "ipython3",
   "version": "3.9.7"
  }
 },
 "nbformat": 4,
 "nbformat_minor": 5
}
